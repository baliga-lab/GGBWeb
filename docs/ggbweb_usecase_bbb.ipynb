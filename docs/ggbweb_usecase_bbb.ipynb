{
 "cells": [
  {
   "cell_type": "markdown",
   "metadata": {
    "slideshow": {
     "slide_type": "slide"
    }
   },
   "source": [
    "# Introducing GGBweb"
   ]
  },
  {
   "cell_type": "markdown",
   "metadata": {
    "collapsed": true,
    "slideshow": {
     "slide_type": "fragment"
    }
   },
   "source": [
    "### *...for Baligans...* "
   ]
  },
  {
   "cell_type": "markdown",
   "metadata": {
    "slideshow": {
     "slide_type": "subslide"
    }
   },
   "source": [
    "(that means EGRIN 2.0)"
   ]
  },
  {
   "cell_type": "markdown",
   "metadata": {
    "slideshow": {
     "slide_type": "slide"
    }
   },
   "source": [
    "##GGBweb Highlights"
   ]
  },
  {
   "cell_type": "markdown",
   "metadata": {
    "slideshow": {
     "slide_type": "fragment"
    }
   },
   "source": [
    "- **<u>Interact</u>** with data on a genome-scale\n",
    "- **<u>Compare</u>** multiple genomic regions, simultaneously \n",
    "- **<u>Transfer</u>** data to scripting environments for iterative refinement\n",
    "- **<u>Customize</u>** how you represent your data\n",
    "- **<u>Extend</u>** your analysis with easy data upload\n",
    "...packaged in a modern and aesthetic web-based GUI"
   ]
  },
  {
   "cell_type": "markdown",
   "metadata": {
    "slideshow": {
     "slide_type": "slide"
    }
   },
   "source": [
    "###Problem: \n",
    "\n",
    "####*Identify and validate transcription factors that regulate nucleotide metabolism*"
   ]
  },
  {
   "cell_type": "markdown",
   "metadata": {
    "slideshow": {
     "slide_type": "slide"
    }
   },
   "source": [
    "###Today you will learn how to:"
   ]
  },
  {
   "cell_type": "markdown",
   "metadata": {
    "slideshow": {
     "slide_type": "fragment"
    }
   },
   "source": [
    "- interact with the genome browser\n",
    "- add gene modules\n",
    "- view and compare several genomic regions\n",
    "- add data tracks\n",
    "- combine with data analysis in `iPython` \n",
    "- upload new data tracks"
   ]
  },
  {
   "cell_type": "markdown",
   "metadata": {
    "slideshow": {
     "slide_type": "slide"
    }
   },
   "source": [
    "### Load required tools from `egrin2-tools` package"
   ]
  },
  {
   "cell_type": "code",
   "execution_count": 3,
   "metadata": {
    "collapsed": false,
    "slideshow": {
     "slide_type": "fragment"
    }
   },
   "outputs": [],
   "source": [
    "from query.egrin2_query import *\n",
    "\n",
    "# connect to the egrin 2.0 database\n",
    "host = \"primordial\"\n",
    "port = 27017\n",
    "db = \"eco_db\"\n",
    "client = MongoClient( 'mongodb://'+ host +':'+ str( port )+'/' )"
   ]
  },
  {
   "cell_type": "markdown",
   "metadata": {
    "slideshow": {
     "slide_type": "slide"
    }
   },
   "source": [
    "###Find genes involved in purine and pyrimidine metabolism"
   ]
  },
  {
   "cell_type": "markdown",
   "metadata": {
    "slideshow": {
     "slide_type": "subslide"
    }
   },
   "source": [
    "**Nucleotide metabolism**\n",
    "- GO:0009117 - nucleotide metabolic process"
   ]
  },
  {
   "cell_type": "code",
   "execution_count": 3,
   "metadata": {
    "collapsed": false,
    "scrolled": true,
    "slideshow": {
     "slide_type": "subslide"
    }
   },
   "outputs": [],
   "source": [
    "# get nucleotide gene info\n",
    "gene_info = pd.DataFrame( list( client[ db ].row_info.find( { \"$or\": [ { \"GO\": { \"$regex\" : \"GO:0009117\" } }, { \"TIGRRoles\": { \"$regex\" : \"nucleotide\" } }, { \"ECDesc\": { \"$regex\" : \"nucleotide\" } } ] } ) ) )\n",
    "gene_info.loc[ :,[ \"name\",\"ECDesc\",\"TIGRRoles\" ] ]\n",
    "# get egrin2 gene names only\n",
    "genes = gene_info.egrin2_row_name.tolist()"
   ]
  },
  {
   "cell_type": "code",
   "execution_count": 4,
   "metadata": {
    "collapsed": false,
    "scrolled": true,
    "slideshow": {
     "slide_type": "subslide"
    }
   },
   "outputs": [
    {
     "name": "stdout",
     "output_type": "stream",
     "text": [
      "Module written to: /Users/abrooks/Documents/git/GGBWeb/docs/nucleotide_module.txt\n"
     ]
    }
   ],
   "source": [
    "# name chromosome-:1823979-1824947 \n",
    "ggbwebModule( genes, outfile = \"nucleotide_module.txt\", host = host, port = port, db = db )"
   ]
  },
  {
   "cell_type": "code",
   "execution_count": 5,
   "metadata": {
    "collapsed": false,
    "scrolled": true
   },
   "outputs": [
    {
     "name": "stdout",
     "output_type": "stream",
     "text": [
      "Using or logic\n"
     ]
    },
    {
     "data": {
      "text/html": [
       "<div style=\"max-height:1000px;max-width:1500px;overflow:auto;\">\n",
       "<table border=\"1\" class=\"dataframe\">\n",
       "  <thead>\n",
       "    <tr style=\"text-align: right;\">\n",
       "      <th></th>\n",
       "      <th>counts</th>\n",
       "      <th>all_counts</th>\n",
       "      <th>pval</th>\n",
       "      <th>qval_BH</th>\n",
       "      <th>qval_bonferroni</th>\n",
       "    </tr>\n",
       "  </thead>\n",
       "  <tbody>\n",
       "    <tr>\n",
       "      <th>2 </th>\n",
       "      <td> 262</td>\n",
       "      <td> 417</td>\n",
       "      <td> 1.225490e-15</td>\n",
       "      <td> 8.741826e-14</td>\n",
       "      <td> 5.245096e-13</td>\n",
       "    </tr>\n",
       "    <tr>\n",
       "      <th>11</th>\n",
       "      <td> 227</td>\n",
       "      <td> 231</td>\n",
       "      <td> 2.100609e-77</td>\n",
       "      <td> 2.247651e-75</td>\n",
       "      <td> 8.990605e-75</td>\n",
       "    </tr>\n",
       "    <tr>\n",
       "      <th>7 </th>\n",
       "      <td> 157</td>\n",
       "      <td> 272</td>\n",
       "      <td> 1.333561e-06</td>\n",
       "      <td> 5.188765e-05</td>\n",
       "      <td> 5.707641e-04</td>\n",
       "    </tr>\n",
       "    <tr>\n",
       "      <th>12</th>\n",
       "      <td> 147</td>\n",
       "      <td> 211</td>\n",
       "      <td> 7.512623e-15</td>\n",
       "      <td> 4.593432e-13</td>\n",
       "      <td> 3.215403e-12</td>\n",
       "    </tr>\n",
       "    <tr>\n",
       "      <th>8 </th>\n",
       "      <td> 138</td>\n",
       "      <td> 253</td>\n",
       "      <td> 2.201497e-04</td>\n",
       "      <td> 4.959161e-03</td>\n",
       "      <td> 9.422405e-02</td>\n",
       "    </tr>\n",
       "  </tbody>\n",
       "</table>\n",
       "</div>"
      ],
      "text/plain": [
       "    counts  all_counts          pval       qval_BH  qval_bonferroni\n",
       "2      262         417  1.225490e-15  8.741826e-14     5.245096e-13\n",
       "11     227         231  2.100609e-77  2.247651e-75     8.990605e-75\n",
       "7      157         272  1.333561e-06  5.188765e-05     5.707641e-04\n",
       "12     147         211  7.512623e-15  4.593432e-13     3.215403e-12\n",
       "8      138         253  2.201497e-04  4.959161e-03     9.422405e-02"
      ]
     },
     "execution_count": 5,
     "metadata": {},
     "output_type": "execute_result"
    }
   ],
   "source": [
    "# find GREs discovered upstream of these genes\n",
    "gre_candidates = agglom( genes, x_type=\"gene\", y_type=\"gre\", host=host, db=db, logic=\"or\", x_input_type = \"egrin2_row_name\").sort([\"counts\",\"pval\"],ascending=False)\n",
    "\n",
    "gre_candidates.head()"
   ]
  },
  {
   "cell_type": "code",
   "execution_count": 1,
   "metadata": {
    "collapsed": false
   },
   "outputs": [
    {
     "ename": "NameError",
     "evalue": "name 'gre_candidates' is not defined",
     "output_type": "error",
     "traceback": [
      "\u001b[1;31m---------------------------------------------------------------------------\u001b[0m",
      "\u001b[1;31mNameError\u001b[0m                                 Traceback (most recent call last)",
      "\u001b[1;32m<ipython-input-1-e7eca1ea4863>\u001b[0m in \u001b[0;36m<module>\u001b[1;34m()\u001b[0m\n\u001b[1;32m----> 1\u001b[1;33m \u001b[0mgres\u001b[0m \u001b[1;33m=\u001b[0m \u001b[0mgre_candidates\u001b[0m\u001b[1;33m.\u001b[0m\u001b[0mindex\u001b[0m\u001b[1;33m[\u001b[0m\u001b[1;36m0\u001b[0m\u001b[1;33m:\u001b[0m\u001b[1;36m5\u001b[0m\u001b[1;33m]\u001b[0m\u001b[1;33m.\u001b[0m\u001b[0mtolist\u001b[0m\u001b[1;33m(\u001b[0m\u001b[1;33m)\u001b[0m\u001b[1;33m\u001b[0m\u001b[0m\n\u001b[0m",
      "\u001b[1;31mNameError\u001b[0m: name 'gre_candidates' is not defined"
     ]
    }
   ],
   "source": [
    "gres = gre_candidates.index[0:5].tolist()"
   ]
  },
  {
   "cell_type": "markdown",
   "metadata": {},
   "source": [
    "\n",
    "(we won't it here because it takes a couple of minutes for the entire genome)"
   ]
  },
  {
   "cell_type": "code",
   "execution_count": 7,
   "metadata": {
    "collapsed": false
   },
   "outputs": [
    {
     "name": "stdout",
     "output_type": "stream",
     "text": [
      "Start not provided. Assuming beginning of chromosome\n",
      "Stop not provided. Assuming end of chromosome\n",
      "WARNING: Many of these filters are not supported currently. Only GREs!!!\n",
      "Filtering motifs by gre_id\n",
      "Writing file GRE_8_fimo.txt\n",
      "Writing file GRE_12_fimo.txt\n",
      "Writing file GRE_2_fimo.txt\n",
      "Writing file GRE_11_fimo.txt\n",
      "Writing file GRE_7_fimo.txt\n"
     ]
    }
   ],
   "source": [
    "# fimoFinder( locusId = \"NC_000913\", filterby = gres, filter_type = \"gre\", host=host, port=port, db=db, outfile = \"fimo.txt\")"
   ]
  }
 ],
 "metadata": {
  "kernelspec": {
   "display_name": "Python 2",
   "language": "python",
   "name": "python2"
  },
  "language_info": {
   "codemirror_mode": {
    "name": "ipython",
    "version": 2
   },
   "file_extension": ".py",
   "mimetype": "text/x-python",
   "name": "python",
   "nbconvert_exporter": "python",
   "pygments_lexer": "ipython2",
   "version": "2.7.6"
  }
 },
 "nbformat": 4,
 "nbformat_minor": 0
}
